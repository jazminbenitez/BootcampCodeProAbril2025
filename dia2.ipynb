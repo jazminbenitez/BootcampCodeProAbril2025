{
 "cells": [
  {
   "cell_type": "code",
   "execution_count": 1,
   "metadata": {},
   "outputs": [],
   "source": [
    "def saludo_bienvenida(x):\n",
    "    print(f'Buen Dia {x}')\n"
   ]
  },
  {
   "cell_type": "code",
   "execution_count": 2,
   "metadata": {},
   "outputs": [
    {
     "name": "stdout",
     "output_type": "stream",
     "text": [
      "Buen Dia Melizza\n"
     ]
    }
   ],
   "source": [
    "saludo_bienvenida('Melizza')"
   ]
  },
  {
   "cell_type": "code",
   "execution_count": 3,
   "metadata": {},
   "outputs": [
    {
     "name": "stdout",
     "output_type": "stream",
     "text": [
      "Buen Dia Jazmin\n"
     ]
    }
   ],
   "source": [
    "nombre = input('Ingrese su nombre')\n",
    "\n",
    "saludo_bienvenida(nombre)\n",
    "\n",
    "def saludo (nombre):\n",
    "    print(\"Hola\", nombre)"
   ]
  },
  {
   "cell_type": "code",
   "execution_count": 7,
   "metadata": {},
   "outputs": [
    {
     "name": "stdout",
     "output_type": "stream",
     "text": [
      "Buen Dia Magui\n"
     ]
    }
   ],
   "source": [
    "usuario = input('Ingrese su nombre')\n",
    "\n",
    "saludo_bienvenida(usuario)"
   ]
  },
  {
   "cell_type": "markdown",
   "metadata": {},
   "source": [
    "# Operadores de comparacion\n",
    "- Mayor >\n",
    "- Menor <\n",
    "- Mayor o igual >=\n",
    "- Menor o igual <=\n",
    "- Es igual ==\n",
    "- Diferente !=\n",
    "\n",
    "# Palabras claves\n",
    "- if (si)\n",
    "- elif (sino si)\n",
    "- else (sino)"
   ]
  },
  {
   "cell_type": "code",
   "execution_count": 8,
   "metadata": {},
   "outputs": [
    {
     "name": "stdout",
     "output_type": "stream",
     "text": [
      "Es mayor de edad, podes ingresar\n"
     ]
    }
   ],
   "source": [
    "edad = 18\n",
    "\n",
    "if edad < 18:\n",
    "    print('Es menor, no podes ingresar')\n",
    "else:\n",
    "    print('Es mayor de edad, podes ingresar') "
   ]
  },
  {
   "cell_type": "code",
   "execution_count": 9,
   "metadata": {},
   "outputs": [
    {
     "name": "stdout",
     "output_type": "stream",
     "text": [
      "Estudiante\n"
     ]
    }
   ],
   "source": [
    "edad_individuo = 15\n",
    "\n",
    "if edad_individuo < 18:\n",
    "    print('Estudiante')\n",
    "elif edad_individuo > 65:\n",
    "    print('Jubilado')\n",
    "else:\n",
    "    print('Trabajador')"
   ]
  },
  {
   "cell_type": "markdown",
   "metadata": {},
   "source": [
    "\n",
    "## Challenge🤺 - 20m\n",
    "Escribe un programa que pregunte al usuario por su edad y determine si tiene edad suficiente para comprar y consumir alcohol.\n",
    "- Si el usuario tiene mas de 18 pero menos de 21 impirmir \"Podes tomar pero no comprar\"\n",
    "- Si el usuario tiene menos de 18 imprimir \"Juguito nomas\"\n",
    "- Si el usuario tiene mas de 21 imprimir \"Hace lo que quieras\""
   ]
  },
  {
   "cell_type": "code",
   "execution_count": 22,
   "metadata": {},
   "outputs": [
    {
     "name": "stdout",
     "output_type": "stream",
     "text": [
      "15\n",
      "Juguito nomas\n"
     ]
    }
   ],
   "source": [
    "edad = int(input('Saber la edad'))\n",
    "print(edad)\n",
    "\n",
    "if edad >= 18:\n",
    "    print('Podes tomar pero no comprar')\n",
    "elif edad < 18:\n",
    "    print('Juguito nomas')\n",
    "elif edad > 21:\n",
    "    print('Hace lo que quieras')\n",
    "    \n",
    "else:\n",
    "    print('Hace lo que quieras')"
   ]
  },
  {
   "cell_type": "markdown",
   "metadata": {},
   "source": [
    "# Operadores logicos\n",
    "- and (y) Se cumple solo si ambas condiciones son verdaderas\n",
    "- or (o) Se cumple si el menos una de las condiciones es vedadera\n",
    "- not (no) Niega las condiciones si es verdadera la convierte si es falsa y alreves"
   ]
  },
  {
   "cell_type": "code",
   "execution_count": 23,
   "metadata": {},
   "outputs": [
    {
     "name": "stdout",
     "output_type": "stream",
     "text": [
      "jubilado\n"
     ]
    }
   ],
   "source": [
    "edad_persona = 65\n",
    "trabaja = True\n",
    "\n",
    "if edad_persona < 18:\n",
    "    print('Estudiante')\n",
    "elif edad_persona < 65 and trabaja == True:\n",
    "    print('Activa Laboralmente')\n",
    "elif edad_persona < 65 and trabaja == False:\n",
    "    print('Desempleado')\n",
    "    \n",
    "else:\n",
    "    print(\"jubilado\")"
   ]
  },
  {
   "cell_type": "code",
   "execution_count": 24,
   "metadata": {},
   "outputs": [
    {
     "name": "stdout",
     "output_type": "stream",
     "text": [
      "Jubilado\n"
     ]
    }
   ],
   "source": [
    "def chequear_edad(edad_laboral, trabaja):\n",
    "    if edad_laboral < 18:\n",
    "        print('Estudiante')\n",
    "    elif edad_laboral  < 65 and trabaja == True:\n",
    "        print('Activa Laboralmente')\n",
    "    elif edad_persona < 65 and trabaja == False:\n",
    "        print('Desempleado')\n",
    "    else:\n",
    "        print('Jubilado')\n",
    "chequear_edad(30, False)        \n"
   ]
  },
  {
   "cell_type": "markdown",
   "metadata": {},
   "source": [
    "## Challenge 🤺 - 30m\n",
    "Escribir un programa en el que se pregunte al usuario por una temperatura (en grados Celsius), imprima la temperatura escrita, y luego clasificar la temperatura ingresada en los siguientes niveles:\n",
    "\n",
    "- Entre -10 y 18 grados, que imprima \"Fresquete\".\n",
    "- Entre 19 y 30 grados, que imprima \"Calor'i\".\n",
    "- Entre 31 y 45 grados, que imprima \"Hakuuuuuu\".\n",
    "- Para todo lo demás, imprimir \"Ñamano mba'e!\".\n"
   ]
  },
  {
   "cell_type": "code",
   "execution_count": 30,
   "metadata": {},
   "outputs": [
    {
     "name": "stdout",
     "output_type": "stream",
     "text": [
      "La temperatura actual es 5 grados Celcius\n",
      "Fresquete\n"
     ]
    }
   ],
   "source": [
    "grados_celsius = int(input('Saber la temperatura'))\n",
    "print(f'La temperatura actual es {grados_celsius} grados Celcius')\n",
    "\n",
    "if grados_celsius >= -10 and grados_celsius <= 18:\n",
    "        print('Fresquete')\n",
    "elif grados_celsius > 19 and grados_celsius <= 30:\n",
    "        print(\"Calor'i\")\n",
    "elif grados_celsius > 31 and grados_celsius <= 45:\n",
    "        print('Hakuuuu')\n",
    "else:\n",
    "        print(\"Ñamano mba'e\")\n",
    "\n"
   ]
  },
  {
   "cell_type": "markdown",
   "metadata": {},
   "source": [
    "## While\n",
    "Nos permite ejecutar una serie de isntrucciones mientras una condicion se cumpla al momento que la condicion deje de ser cierta el bucle va a parar"
   ]
  },
  {
   "cell_type": "code",
   "execution_count": 31,
   "metadata": {},
   "outputs": [
    {
     "name": "stdout",
     "output_type": "stream",
     "text": [
      "6\n",
      "6\n",
      "10\n",
      "numero correcto\n"
     ]
    }
   ],
   "source": [
    "numero_a_adivinar = 10\n",
    "numero = 3\n",
    "\n",
    "while numero != numero_a_adivinar:\n",
    "    numero = int(input('Introduce un numero'))\n",
    "    print(numero)\n",
    "    \n",
    "print('numero correcto')"
   ]
  },
  {
   "cell_type": "code",
   "execution_count": 36,
   "metadata": {},
   "outputs": [
    {
     "name": "stdout",
     "output_type": "stream",
     "text": [
      "El numero es correcto\n"
     ]
    }
   ],
   "source": [
    "numero = 10\n",
    "\n",
    "while True:\n",
    "    numero_ingresado = int(input('Introduce un numero'))\n",
    "    if numero_ingresado == numero:\n",
    "        print('El numero es correcto')\n",
    "        break\n",
    "else:\n",
    "    print('numero incorrecto')"
   ]
  },
  {
   "cell_type": "markdown",
   "metadata": {},
   "source": [
    "## Challenge 🤺 - 20m\n",
    "Escribir un programa que almacene una contraseña en una variable, y pregunte al usuario por la contraseña hasta que introduzca la contraseña correcta.\n",
    "\n",
    "Cuando el usuario ingrese la contrasena correcta, imprimir un mensaje secreto."
   ]
  },
  {
   "cell_type": "code",
   "execution_count": 45,
   "metadata": {},
   "outputs": [
    {
     "name": "stdout",
     "output_type": "stream",
     "text": [
      "Contraseña correcta\n"
     ]
    }
   ],
   "source": [
    "contraseña = 1234\n",
    "\n",
    "while True:\n",
    "    ingresar_contraseña = int(input('Ingresar Contraseña'))\n",
    "    if ingresar_contraseña == contraseña:\n",
    "        print('Contraseña correcta')\n",
    "        break\n",
    "else:\n",
    "    print('Contraseña incorrecta')"
   ]
  },
  {
   "cell_type": "markdown",
   "metadata": {},
   "source": [
    "## Listas\n",
    "es una agrupacion de objetos, que pueden ser distintos tipos de datos. la construimos colocando los elementos entre [] y separados por comas.\n",
    "\n"
   ]
  },
  {
   "cell_type": "code",
   "execution_count": 48,
   "metadata": {},
   "outputs": [
    {
     "name": "stdout",
     "output_type": "stream",
     "text": [
      "banana\n",
      "['pera', 'manzana', 'banana', 'Kiwi']\n",
      "['pera', 'durazno', 'banana', 'Kiwi']\n",
      "['durazno', 'banana', 'Kiwi']\n",
      "['durazno', 'Kiwi']\n",
      "2\n"
     ]
    }
   ],
   "source": [
    "listas_frutas = ['pera', 'manzana', 'banana']\n",
    "\n",
    "#diferentes tipos de datos\n",
    "lista_bool = [True, False, True]\n",
    "lista_numeros = [1, 2, 3, 4]\n",
    "\n",
    "print(listas_frutas[2])\n",
    "\n",
    "#Añadir\n",
    "listas_frutas.append('Kiwi')\n",
    "print(listas_frutas)\n",
    "\n",
    "#Modificar\n",
    "listas_frutas[1] = 'durazno'\n",
    "print(listas_frutas)\n",
    "\n",
    "#Eliminar un elemento especifico\n",
    "listas_frutas.remove('pera')\n",
    "print(listas_frutas)\n",
    "\n",
    "#Eliminar un elemento por indice\n",
    "listas_frutas.pop(1)\n",
    "print(listas_frutas)\n",
    "\n",
    "#Contar elementos de la lista\n",
    "print(len(listas_frutas))\n",
    "\n"
   ]
  },
  {
   "cell_type": "markdown",
   "metadata": {},
   "source": [
    "## Challenge 🤺 - 20m\n",
    "Crear una lista de 5 elementos. Luego, seguir los siguientes pasos.\n",
    "\n",
    "- Agregar un elemento al final de la lista.\n",
    "\n",
    "- Modificar el segundo elemento.\n",
    "\n",
    "- Eliminar el tercer elemento."
   ]
  },
  {
   "cell_type": "code",
   "execution_count": 7,
   "metadata": {},
   "outputs": [
    {
     "name": "stdout",
     "output_type": "stream",
     "text": [
      "['lapiz', 'borrador', 'cuaderno', 'sacapuntas', 'mochila', 'Regla']\n",
      "['lapiz', 'Ron Frutos Rojos', 'cuaderno', 'sacapuntas', 'mochila', 'Regla']\n",
      "['lapiz', 'Ron Frutos Rojos', 'cuaderno', 'mochila', 'Regla']\n"
     ]
    }
   ],
   "source": [
    "lista_de_utiles = ['lapiz', 'borrador', 'cuaderno', 'sacapuntas', 'mochila']\n",
    "\n",
    "lista_de_utiles.append('Regla')\n",
    "print(lista_de_utiles)\n",
    "\n",
    "lista_de_utiles[1] = 'Ron Frutos Rojos'\n",
    "print(lista_de_utiles)\n",
    "\n",
    "lista_de_utiles.remove('sacapuntas')\n",
    "print(lista_de_utiles)\n",
    "\n"
   ]
  },
  {
   "cell_type": "markdown",
   "metadata": {},
   "source": [
    "cuando queremos repetir una accion una cierta cantidad de veces, podemos utilizar un bucle iterativo.\n",
    "Iteraciones: una accion repetida una ciertas cantidad de veces, pero en cada repeticion tiene en cuenta el valor anterioir"
   ]
  },
  {
   "cell_type": "code",
   "execution_count": 15,
   "metadata": {},
   "outputs": [
    {
     "name": "stdout",
     "output_type": "stream",
     "text": [
      "dia: 1\n",
      "dia: 2\n",
      "dia: 3\n",
      "dia: 4\n",
      "dia: 5\n",
      "dia: 6\n",
      "dia: 7\n"
     ]
    }
   ],
   "source": [
    "dias_de_la_semana = [1, 2, 3, 4, 5, 6, 7]\n",
    "\n",
    "for dia in dias_de_la_semana:\n",
    "    print(f'dia: {dia}')"
   ]
  },
  {
   "cell_type": "code",
   "execution_count": 11,
   "metadata": {},
   "outputs": [
    {
     "name": "stdout",
     "output_type": "stream",
     "text": [
      "Hola buen dia\n",
      "Hola buen dia\n"
     ]
    }
   ],
   "source": [
    "for i in range(2):\n",
    "    print('Hola buen dia')"
   ]
  },
  {
   "cell_type": "code",
   "execution_count": 17,
   "metadata": {},
   "outputs": [
    {
     "name": "stdout",
     "output_type": "stream",
     "text": [
      "pan\n",
      "queso\n",
      "coca\n",
      "leche\n",
      "ron\n"
     ]
    }
   ],
   "source": [
    "lista_compras = ['pan', 'queso', 'coca', 'leche', 'ron']\n",
    "\n",
    "for productos in lista_compras:\n",
    "    print(productos)\n",
    "    "
   ]
  },
  {
   "cell_type": "markdown",
   "metadata": {},
   "source": [
    "## Challenge 🤺 - 20m\n",
    "Escribir un programa que itere en un rango de 10 veces. Por cada iteracion multiplicar el iterador por dos e imprimir el resultado."
   ]
  },
  {
   "cell_type": "code",
   "execution_count": 21,
   "metadata": {},
   "outputs": [
    {
     "name": "stdout",
     "output_type": "stream",
     "text": [
      "2\n",
      "4\n",
      "6\n",
      "8\n",
      "10\n",
      "12\n",
      "14\n",
      "16\n",
      "18\n"
     ]
    }
   ],
   "source": [
    "for i in range(1,10): # colocando solamente 10, la multiplicacion inicia en 0.\n",
    "    i_multiplicado = i * 2\n",
    "    print(i_multiplicado)\n",
    "    \n"
   ]
  },
  {
   "cell_type": "markdown",
   "metadata": {},
   "source": [
    "## Challenge 🤺 - 20m\n",
    "Recorrer los elementos de una lista de marcas e imprimir cada marca solamente si tiene 6 letras o más.\n"
   ]
  },
  {
   "cell_type": "markdown",
   "metadata": {},
   "source": [
    "- #Crea una lista de marcas\n",
    "- #Recorrer la lista de marcas\n",
    "- #Crear una condicion si la palabra tiene mas de 6 carac\n",
    "- #Imprimir solamente los correctos\n"
   ]
  },
  {
   "cell_type": "code",
   "execution_count": 34,
   "metadata": {},
   "outputs": [
    {
     "name": "stdout",
     "output_type": "stream",
     "text": [
      "Vercase\n",
      "Louis Vitton\n"
     ]
    }
   ],
   "source": [
    "lista_de_marcas = ['Nike', 'Puma', 'Vercase', 'Gucci', 'Prada', 'Louis Vitton']\n",
    "\n",
    "for marcas in lista_de_marcas:\n",
    "\n",
    "    if len(marcas) >= 6:\n",
    "        print(marcas)\n",
    "    "
   ]
  },
  {
   "cell_type": "markdown",
   "metadata": {},
   "source": [
    "## Challenge 🤺 - 15m\n",
    "Solicitar al usuario que ingrese una frase.\n",
    "\n",
    "Imprimir un mensaje cada vez que se encuentre una letra \"o\""
   ]
  },
  {
   "cell_type": "code",
   "execution_count": 41,
   "metadata": {},
   "outputs": [
    {
     "name": "stdout",
     "output_type": "stream",
     "text": [
      "No se encuentra la O\n",
      "No se encuentra la O\n",
      "No se encuentra la O\n",
      "No se encuentra la O\n",
      "No se encuentra la O\n"
     ]
    }
   ],
   "source": [
    "frase = input('Se encuentra la frase O')\n",
    "\n",
    "for o in frase:\n",
    "        \n",
    "        print('No se encuentra la O')   "
   ]
  },
  {
   "cell_type": "code",
   "execution_count": null,
   "metadata": {},
   "outputs": [],
   "source": [
    "oracion = input(\"escribe una frase:\")\n",
    "contador = 0\n",
    "\n",
    "for letra in oracion:\n",
    "    if letra.lower() == \"o\":\n",
    "        contador += 1\n",
    "\n",
    "print(f\"la letra o aparece {contador} veces\")"
   ]
  },
  {
   "cell_type": "code",
   "execution_count": null,
   "metadata": {},
   "outputs": [],
   "source": []
  }
 ],
 "metadata": {
  "kernelspec": {
   "display_name": "Python 3",
   "language": "python",
   "name": "python3"
  },
  "language_info": {
   "codemirror_mode": {
    "name": "ipython",
    "version": 3
   },
   "file_extension": ".py",
   "mimetype": "text/x-python",
   "name": "python",
   "nbconvert_exporter": "python",
   "pygments_lexer": "ipython3",
   "version": "3.13.1"
  }
 },
 "nbformat": 4,
 "nbformat_minor": 2
}
