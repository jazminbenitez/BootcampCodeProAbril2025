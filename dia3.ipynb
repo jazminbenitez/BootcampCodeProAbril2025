{
 "cells": [
  {
   "cell_type": "code",
   "execution_count": 12,
   "metadata": {},
   "outputs": [
    {
     "name": "stdout",
     "output_type": "stream",
     "text": [
      "Hola Mundo\n"
     ]
    }
   ],
   "source": [
    "def imprimir_saludo():\n",
    "    print('Hola Mundo')\n",
    "    \n",
    "imprimir_saludo()"
   ]
  },
  {
   "cell_type": "markdown",
   "metadata": {},
   "source": [
    "## Challenge 1 🤺 - 10m\n",
    "Crear una función que imprima la variable palabra."
   ]
  },
  {
   "cell_type": "code",
   "execution_count": 5,
   "metadata": {},
   "outputs": [
    {
     "name": "stdout",
     "output_type": "stream",
     "text": [
      "Mba'eichapa!!\n"
     ]
    }
   ],
   "source": [
    "def imprimir_bienvenida():\n",
    "    print(\"Mba'eichapa!!\")\n",
    "    \n",
    "imprimir_bienvenida()"
   ]
  },
  {
   "cell_type": "markdown",
   "metadata": {},
   "source": [
    "## Challenge 2 🤺 - 20 min\n",
    "Crear una función que reciba dos letras (parámetros) y que verifique si son iguales:\n",
    "\n",
    "Si son iguales, imprimir \"Las letras son iguales\".\n",
    "\n",
    "De lo contrario, imprimir \"Las letras son diferentes\".\n"
   ]
  },
  {
   "cell_type": "code",
   "execution_count": 11,
   "metadata": {},
   "outputs": [
    {
     "name": "stdout",
     "output_type": "stream",
     "text": [
      "Las letras son diferentes\n"
     ]
    }
   ],
   "source": [
    "def comparar_letras (letra1, letra2):\n",
    "    if letra1 == letra2:\n",
    "        print(\"Las letras son iguales\")\n",
    "    else:\n",
    "        print(\"Las letras son diferentes\")\n",
    "\n",
    "comparar_letras(\"b\", \"a\")"
   ]
  },
  {
   "cell_type": "markdown",
   "metadata": {},
   "source": [
    "## Challenge 3 🤺 - 20m\n",
    "Crear una función que reciba dos parámetros (una palabra y un número), y que retorne True si el número es igual a la cantidad de letras de la palabra. En caso contrario, que retorne False.\n",
    "\n",
    "Pista: cantidad de letras de una palabra en python"
   ]
  },
  {
   "cell_type": "code",
   "execution_count": 14,
   "metadata": {},
   "outputs": [
    {
     "ename": "IndentationError",
     "evalue": "expected an indented block after 'if' statement on line 2 (3315064115.py, line 4)",
     "output_type": "error",
     "traceback": [
      "  \u001b[36mCell\u001b[39m\u001b[36m \u001b[39m\u001b[32mIn[14]\u001b[39m\u001b[32m, line 4\u001b[39m\n\u001b[31m    \u001b[39m\u001b[31melif nombre_funsion letra and numero == True:\u001b[39m\n    ^\n\u001b[31mIndentationError\u001b[39m\u001b[31m:\u001b[39m expected an indented block after 'if' statement on line 2\n"
     ]
    }
   ],
   "source": [
    "def nombre_funsion (letra, numero):\n",
    "    if len(letra) == numero:\n",
    "\n",
    "    elif nombre_funsion letra and numero == True:\n",
    "        print('letra', 'numero')\n",
    "    else nombre_funsion letra and numero == False:\n",
    "        print('letra', 'numero')\n",
    "\n",
    "print(\"a\",\"1\")\n"
   ]
  },
  {
   "cell_type": "markdown",
   "metadata": {},
   "source": [
    "## Challenge 5 🤺 - 25m\n",
    "Pedir al usuario que ingrese 1 palabra, luego convertir esa palabra a una lista con sus caracteres con list(). Agregar esa lista de caracteres a una lista llamada palabras_ingresadas. Repetir el proceso 3 veces. Cada vez que se agregue una lista de caracteres, imprimir la lista palabras_ingresadas.\n",
    "\n",
    "\n",
    "Ejemplo del resultado esperado:\n",
    "\n",
    "[['c', 'i', 'e', 'l', 'o']]\n",
    " # Al ingresar la primera palabra\n",
    "\n",
    "[['c', 'i', 'e', 'l', 'o'], ['c', 'a', 'l', 'o', 'r']]\n",
    " # Al ingresar la segunda palabra\n",
    "\n",
    "[['c', 'i', 'e', 'l', 'o'], ['c', 'a', 'l', 'o', 'r'], ['n', 'u', 'b', 'e', 's']]\n",
    " # Al ingresar la tercera palabra"
   ]
  },
  {
   "cell_type": "code",
   "execution_count": 28,
   "metadata": {},
   "outputs": [
    {
     "name": "stdout",
     "output_type": "stream",
     "text": [
      "[['m', 'e', 's', 'a']]\n",
      "[['m', 'e', 's', 'a'], ['p', 'e', 'r', 'r', 'o']]\n",
      "[['m', 'e', 's', 'a'], ['p', 'e', 'r', 'r', 'o'], ['g', 'a', 't', 'o']]\n"
     ]
    }
   ],
   "source": [
    "palabra_ingresadas = []\n",
    "\n",
    "for i in range(3):\n",
    "    palabra= input(f\"Ingresa la palabra: \")\n",
    "    caracteres = list(palabra)\n",
    "    palabra_ingresadas.append (caracteres)\n",
    "    print(palabra_ingresadas)\n"
   ]
  },
  {
   "cell_type": "code",
   "execution_count": 29,
   "metadata": {},
   "outputs": [
    {
     "name": "stdout",
     "output_type": "stream",
     "text": [
      "[['a', 'n', 'i', 'l', 'l', 'o']]\n",
      "[['a', 'n', 'i', 'l', 'l', 'o'], ['p', 'u', 'l', 's', 'e', 'r', 'a']]\n",
      "[['a', 'n', 'i', 'l', 'l', 'o'], ['p', 'u', 'l', 's', 'e', 'r', 'a'], ['c', 'o', 'l', 'l', 'a', 'r']]\n"
     ]
    }
   ],
   "source": [
    "primera_palabra = input('Ingresa una palabra:')\n",
    "convertir_primera_palabra = list(primera_palabra)\n",
    "print([convertir_primera_palabra])\n",
    "\n",
    "segunda_palabra = input('Por favor ingresa otra palabra:')\n",
    "convertir_segunda_palabra = list(segunda_palabra)\n",
    "print([convertir_primera_palabra, convertir_segunda_palabra])\n",
    "\n",
    "tercera_palabra = input('Por favor ingresa otra palabra:')\n",
    "convertir_tercera_palabra = list(tercera_palabra)\n",
    "print([convertir_primera_palabra, convertir_segunda_palabra, convertir_tercera_palabra])"
   ]
  },
  {
   "cell_type": "code",
   "execution_count": 3,
   "metadata": {},
   "outputs": [],
   "source": [
    "#Crear una funcion que contengan dos parametros\n",
    "def obtener_fila_verificada (palabra, palabra_ingresadas):\n",
    "    #Segundo paso definir la cantidad de la letras de la palabra\n",
    "    cantidad_de_letras_de_palabras_a_encontrar = 5\n",
    "    \n",
    "    #Tercer paso: Crear una lista vacia para guardar las letras verificadas\n",
    "    letras_verificadas = []\n",
    "    \n",
    "    #Cuarto paso: Se recorre cada posicion de la palabra\n",
    "    for posicion in range (cantidad_de_letras_de_palabras_a_encontrar):\n",
    "        \n",
    "        \n",
    "        #quinto: comparar las letras en la misma posicion\n",
    "        las_letras_son_iguales = palabra[posicion] == palabra_ingresadas[posicion]\n",
    "        \n",
    "        #sexto paso se verifica si la letra existe en la palabra\n",
    "        la_letra_existe_en_la_palabra = palabra_ingresadas[posicion] in palabra\n",
    "        \n",
    "        if las_letras_son_iguales:\n",
    "            letras_verificadas.append('[' + palabra_ingresadas[posicion] + ']')\n",
    "            \n",
    "        elif la_letra_existe_en_la_palabra:\n",
    "            letras_verificadas.append('(' + palabra_ingresadas[posicion] + ')')\n",
    "            \n",
    "        else:\n",
    "            letras_verificadas.append(palabra_ingresadas[posicion])\n",
    "            \n",
    "    return letras_verificadas\n",
    "\n",
    "    \n",
    "    "
   ]
  },
  {
   "cell_type": "code",
   "execution_count": 5,
   "metadata": {},
   "outputs": [
    {
     "name": "stdout",
     "output_type": "stream",
     "text": [
      "['[H]', '[u]', '[e]', 'r', 't']\n"
     ]
    }
   ],
   "source": [
    "palabra = 'Huevo'\n",
    "palabra_ingresadas = input(\"Ingrese una palabrota de 5 letras\")\n",
    "\n",
    "linea_verificada = obtener_fila_verificada(palabra, palabra_ingresadas)\n",
    "\n",
    "print(linea_verificada)\n"
   ]
  },
  {
   "cell_type": "markdown",
   "metadata": {},
   "source": [
    "## Challenge 6 🤺 - 25m\n",
    "Dada la lista de ejemplo: \n",
    "\n",
    "lista = [['h', 'o', 'l', 'i', 's'], ['h', 'e', 'l', 'l', 'o'], ['h', 'a', 'l', 'l', 'o']]\n",
    "\n",
    "Crear una función que imprima una grilla (lista de listas), una línea por cada lista dentro de la lista principal.\n",
    "\n",
    "Ejemplo del resultado esperado:\n",
    "\n",
    "['h', 'o', 'l', 'i', 's']\n",
    "['h', 'e', 'l', 'l', 'o']\n",
    "['h', 'a', 'l', 'l', 'o']\n"
   ]
  },
  {
   "cell_type": "code",
   "execution_count": null,
   "metadata": {},
   "outputs": [
    {
     "ename": "KeyboardInterrupt",
     "evalue": "Interrupted by user",
     "output_type": "error",
     "traceback": [
      "\u001b[31m---------------------------------------------------------------------------\u001b[39m",
      "\u001b[31mKeyboardInterrupt\u001b[39m                         Traceback (most recent call last)",
      "\u001b[36mCell\u001b[39m\u001b[36m \u001b[39m\u001b[32mIn[11]\u001b[39m\u001b[32m, line 3\u001b[39m\n\u001b[32m      1\u001b[39m palabra_ingresadas = ([\u001b[33m'\u001b[39m\u001b[33mc\u001b[39m\u001b[33m'\u001b[39m, \u001b[33m'\u001b[39m\u001b[33ma\u001b[39m\u001b[33m'\u001b[39m, \u001b[33m'\u001b[39m\u001b[33mm\u001b[39m\u001b[33m'\u001b[39m, \u001b[33m'\u001b[39m\u001b[33mi\u001b[39m\u001b[33m'\u001b[39m, \u001b[33m'\u001b[39m\u001b[33ms\u001b[39m\u001b[33m'\u001b[39m, \u001b[33m'\u001b[39m\u001b[33ma\u001b[39m\u001b[33m'\u001b[39m], [\u001b[33m'\u001b[39m\u001b[33mh\u001b[39m\u001b[33m'\u001b[39m, \u001b[33m'\u001b[39m\u001b[33mo\u001b[39m\u001b[33m'\u001b[39m, \u001b[33m'\u001b[39m\u001b[33ml\u001b[39m\u001b[33m'\u001b[39m, \u001b[33m'\u001b[39m\u001b[33ma\u001b[39m\u001b[33m'\u001b[39m], [\u001b[33m'\u001b[39m\u001b[33mh\u001b[39m\u001b[33m'\u001b[39m, \u001b[33m'\u001b[39m\u001b[33mu\u001b[39m\u001b[33m'\u001b[39m, \u001b[33m'\u001b[39m\u001b[33me\u001b[39m\u001b[33m'\u001b[39m, \u001b[33m'\u001b[39m\u001b[33mv\u001b[39m\u001b[33m'\u001b[39m, \u001b[33m'\u001b[39m\u001b[33mo\u001b[39m\u001b[33m'\u001b[39m])\n\u001b[32m----> \u001b[39m\u001b[32m3\u001b[39m palabra = \u001b[38;5;28;43minput\u001b[39;49m\u001b[43m(\u001b[49m\u001b[33;43m'\u001b[39;49m\u001b[33;43mIngrese una palabra\u001b[39;49m\u001b[33;43m'\u001b[39;49m\u001b[43m)\u001b[49m\n\u001b[32m      4\u001b[39m listas_de_palabra = \u001b[38;5;28mlist\u001b[39m(palabra)\n\u001b[32m      7\u001b[39m \u001b[38;5;28mprint\u001b[39m(palabra_ingresadas)\n",
      "\u001b[36mFile \u001b[39m\u001b[32m~\\AppData\\Roaming\\Python\\Python313\\site-packages\\ipykernel\\kernelbase.py:1282\u001b[39m, in \u001b[36mKernel.raw_input\u001b[39m\u001b[34m(self, prompt)\u001b[39m\n\u001b[32m   1280\u001b[39m     msg = \u001b[33m\"\u001b[39m\u001b[33mraw_input was called, but this frontend does not support input requests.\u001b[39m\u001b[33m\"\u001b[39m\n\u001b[32m   1281\u001b[39m     \u001b[38;5;28;01mraise\u001b[39;00m StdinNotImplementedError(msg)\n\u001b[32m-> \u001b[39m\u001b[32m1282\u001b[39m \u001b[38;5;28;01mreturn\u001b[39;00m \u001b[38;5;28;43mself\u001b[39;49m\u001b[43m.\u001b[49m\u001b[43m_input_request\u001b[49m\u001b[43m(\u001b[49m\n\u001b[32m   1283\u001b[39m \u001b[43m    \u001b[49m\u001b[38;5;28;43mstr\u001b[39;49m\u001b[43m(\u001b[49m\u001b[43mprompt\u001b[49m\u001b[43m)\u001b[49m\u001b[43m,\u001b[49m\n\u001b[32m   1284\u001b[39m \u001b[43m    \u001b[49m\u001b[38;5;28;43mself\u001b[39;49m\u001b[43m.\u001b[49m\u001b[43m_parent_ident\u001b[49m\u001b[43m[\u001b[49m\u001b[33;43m\"\u001b[39;49m\u001b[33;43mshell\u001b[39;49m\u001b[33;43m\"\u001b[39;49m\u001b[43m]\u001b[49m\u001b[43m,\u001b[49m\n\u001b[32m   1285\u001b[39m \u001b[43m    \u001b[49m\u001b[38;5;28;43mself\u001b[39;49m\u001b[43m.\u001b[49m\u001b[43mget_parent\u001b[49m\u001b[43m(\u001b[49m\u001b[33;43m\"\u001b[39;49m\u001b[33;43mshell\u001b[39;49m\u001b[33;43m\"\u001b[39;49m\u001b[43m)\u001b[49m\u001b[43m,\u001b[49m\n\u001b[32m   1286\u001b[39m \u001b[43m    \u001b[49m\u001b[43mpassword\u001b[49m\u001b[43m=\u001b[49m\u001b[38;5;28;43;01mFalse\u001b[39;49;00m\u001b[43m,\u001b[49m\n\u001b[32m   1287\u001b[39m \u001b[43m\u001b[49m\u001b[43m)\u001b[49m\n",
      "\u001b[36mFile \u001b[39m\u001b[32m~\\AppData\\Roaming\\Python\\Python313\\site-packages\\ipykernel\\kernelbase.py:1325\u001b[39m, in \u001b[36mKernel._input_request\u001b[39m\u001b[34m(self, prompt, ident, parent, password)\u001b[39m\n\u001b[32m   1322\u001b[39m \u001b[38;5;28;01mexcept\u001b[39;00m \u001b[38;5;167;01mKeyboardInterrupt\u001b[39;00m:\n\u001b[32m   1323\u001b[39m     \u001b[38;5;66;03m# re-raise KeyboardInterrupt, to truncate traceback\u001b[39;00m\n\u001b[32m   1324\u001b[39m     msg = \u001b[33m\"\u001b[39m\u001b[33mInterrupted by user\u001b[39m\u001b[33m\"\u001b[39m\n\u001b[32m-> \u001b[39m\u001b[32m1325\u001b[39m     \u001b[38;5;28;01mraise\u001b[39;00m \u001b[38;5;167;01mKeyboardInterrupt\u001b[39;00m(msg) \u001b[38;5;28;01mfrom\u001b[39;00m\u001b[38;5;250m \u001b[39m\u001b[38;5;28;01mNone\u001b[39;00m\n\u001b[32m   1326\u001b[39m \u001b[38;5;28;01mexcept\u001b[39;00m \u001b[38;5;167;01mException\u001b[39;00m:\n\u001b[32m   1327\u001b[39m     \u001b[38;5;28mself\u001b[39m.log.warning(\u001b[33m\"\u001b[39m\u001b[33mInvalid Message:\u001b[39m\u001b[33m\"\u001b[39m, exc_info=\u001b[38;5;28;01mTrue\u001b[39;00m)\n",
      "\u001b[31mKeyboardInterrupt\u001b[39m: Interrupted by user"
     ]
    }
   ],
   "source": [
    "palabra_ingresadas = (['c', 'a', 'm', 'i', 's', 'a'], ['h', 'o', 'l', 'a'], ['h', 'u', 'e', 'v', 'o'])\n",
    "\n",
    "palabra = input('Ingrese una palabra')\n",
    "listas_de_palabra = list(palabra)\n",
    "\n",
    "\n",
    "print(palabra_ingresadas)"
   ]
  },
  {
   "cell_type": "code",
   "execution_count": 3,
   "metadata": {},
   "outputs": [
    {
     "name": "stdout",
     "output_type": "stream",
     "text": [
      "bienvenido al juego adivina la palabra penguin edition...\n",
      "      Las reglas son simples: adivina la palabra oculta en 6 intentos.\n",
      "      pista: la palabra termina en: s\n",
      "      deben ser palabras con 5 letras\n",
      "\n",
      "['[r]', '[o]', 'c', '[a]', '[s]']\n",
      "quedan 5 intentos\n",
      "['h', '[o]', 'l', '[a]', '[s]']\n",
      "quedan 4 intentos\n",
      "['h', 'i', 'l', '(o)', '[s]']\n",
      "quedan 3 intentos\n",
      "['h', 'i', 'j', '(o)', '[s]']\n",
      "quedan 2 intentos\n",
      "ganaste\n",
      "la palabra es: rosas\n"
     ]
    }
   ],
   "source": [
    "#definir la palabra completa\n",
    "palabra_secreta= 'rosas'  #input('ingresar palabra secreta: ')\n",
    "\n",
    "\n",
    "#definir cantidad de letra\n",
    "cantidad_de_letras = 5  #len(palabra_secreta)\n",
    "\n",
    "#definir intentos\n",
    "total_intentos = 6\n",
    "\n",
    "\n",
    "\n",
    "#mostrar welcome\n",
    "pista= list(palabra_secreta)\n",
    "pista_final = pista.pop()\n",
    "\n",
    "print(f'''bienvenido al juego adivina la palabra penguin edition...\n",
    "      Las reglas son simples: adivina la palabra oculta en {total_intentos} intentos.\n",
    "      pista: la palabra termina en: {pista_final}\n",
    "      deben ser palabras con {cantidad_de_letras} letras\n",
    "''' )##\n",
    "\n",
    "#funcion del juego\n",
    "def validar_datos(palabra_definida, palabra_a_ingresar):\n",
    "    #inicializar lista de progreso\n",
    "    letras_verificadas = []\n",
    "    #verificamos si coinciden los valores y posiciones y damos el formato adecuado\n",
    "    for posicion in range(cantidad_de_letras):\n",
    "        verifica_valor_y_posicion = palabra_definida[posicion] == palabra_a_ingresar[posicion]\n",
    "        verifica_valor = palabra_a_ingresar[posicion] in palabra_definida\n",
    "\n",
    "        #adjuntar [] si coincide en valor y posicion\n",
    "        if verifica_valor_y_posicion:\n",
    "            letras_verificadas.append('['+ palabra_a_ingresar[posicion] +']')\n",
    "        elif verifica_valor:\n",
    "            letras_verificadas.append('(' + palabra_a_ingresar[posicion] + ')')\n",
    "        else:\n",
    "            letras_verificadas.append(palabra_a_ingresar[posicion])\n",
    "    return letras_verificadas\n",
    "\n",
    "#programa de intentos\n",
    "\n",
    "while total_intentos > 0:\n",
    "    palabra_usuario = input('ingrese la palabra: ')\n",
    "    if palabra_usuario == palabra_secreta:\n",
    "        print('ganaste')\n",
    "        print(f'la palabra es: {palabra_secreta}')\n",
    "        break\n",
    "    else:\n",
    "        total_intentos = total_intentos - 1 \n",
    "        estatus = validar_datos(palabra_secreta, palabra_usuario)\n",
    "        print (estatus)\n",
    "        print(f'quedan {total_intentos} intentos')\n",
    "        if total_intentos == 0:\n",
    "            print('game over')\n",
    "            break\n",
    "        "
   ]
  },
  {
   "cell_type": "code",
   "execution_count": 5,
   "metadata": {},
   "outputs": [
    {
     "name": "stdout",
     "output_type": "stream",
     "text": [
      "bienvenido al juego adivina la palabra penguin edition...\n",
      "      Las reglas son simples: adivina la palabra oculta en 6 intentos.\n",
      "      pista: la palabra termina en: s\n",
      "      deben ser palabras con 5 letras\n",
      "\n",
      "['[r]', '[o]', 'c', '[a]', '[s]']\n",
      "quedan 5 intentos\n",
      "['[r]', '[o]', 'c', '[a]', '[s]']\n",
      "['h', 'i', 'l', '(o)', '[s]']\n",
      "quedan 4 intentos\n",
      "['[r]', '[o]', 'c', '[a]', '[s]']\n",
      "['h', 'i', 'l', '(o)', '[s]']\n",
      "['[r]', 'i', '[s]', '[a]', '[s]']\n",
      "quedan 3 intentos\n",
      "['[r]', '[o]', 'c', '[a]', '[s]']\n",
      "['h', 'i', 'l', '(o)', '[s]']\n",
      "['[r]', 'i', '[s]', '[a]', '[s]']\n",
      "['[r]', '[o]', 't', '[a]', '[s]']\n",
      "quedan 2 intentos\n",
      "WINNER!!!!!\n",
      "la palabra es: rosas\n"
     ]
    }
   ],
   "source": [
    "#definir la palabra completa\n",
    "palabra_secreta= 'rosas'  \n",
    "#input('ingresar palabra secreta: ') para despues mejorar\n",
    "\n",
    "\n",
    "#definir cantidad de letra\n",
    "cantidad_de_letras = 5  \n",
    "#len(palabra_secreta) (por si se da el input)\n",
    "\n",
    "#definir intentos\n",
    "total_intentos = 6\n",
    "\n",
    "#inicializar lista de progreso\n",
    "letras_verificadas = []\n",
    "\n",
    "#generar una pista (el ultimo caracter, tomalo o dejalo)\n",
    "pista= list(palabra_secreta)\n",
    "pista_final = pista.pop()\n",
    "#mostrar welcome\n",
    "print(f'''bienvenido al juego adivina la palabra penguin edition...\n",
    "      Las reglas son simples: adivina la palabra oculta en {total_intentos} intentos.\n",
    "      pista: la palabra termina en: {pista_final}\n",
    "      deben ser palabras con {cantidad_de_letras} letras\n",
    "''' )\n",
    "\n",
    "\n",
    "\n",
    "#funcion de verificacion para ayudar al usuario a encontrar la palabra\n",
    "def validar_datos(palabra_definida, palabra_a_ingresar):\n",
    "    letras_verificadas = []\n",
    "    #verificamos si coinciden los valores y posiciones y damos el formato adecuado '[]' para posicion y valor correcto y '()' para valor correcto posicion equivocada\n",
    "    for posicion in range(cantidad_de_letras):\n",
    "        verifica_valor_y_posicion = palabra_definida[posicion] == palabra_a_ingresar[posicion]\n",
    "        verifica_valor = palabra_a_ingresar[posicion] in palabra_definida\n",
    "        #adjuntar [] si coincide en valor y posicion\n",
    "        if verifica_valor_y_posicion:\n",
    "            letras_verificadas.append('['+ palabra_a_ingresar[posicion] +']')\n",
    "        elif verifica_valor:#adjuntar () si coincide en valor pero no posicion\n",
    "            letras_verificadas.append('(' + palabra_a_ingresar[posicion] + ')')\n",
    "        else: #sino asi mismo vuelve a imprimirse el caracter\n",
    "            letras_verificadas.append(palabra_a_ingresar[posicion])\n",
    "    return letras_verificadas #['h', 'o', 'l', 'i', 's']\n",
    "\n",
    "\n",
    "##funcion para mostrar historico\n",
    "def imprimir_con_salto(lista_a_imprimir):\n",
    "    for i in lista_a_imprimir:\n",
    "        lista = list(i)\n",
    "        print(lista)\n",
    "\n",
    "estatus =[]\n",
    "#programa de intentos\n",
    "# aqui empieza realmente el juego\n",
    "while True:\n",
    "    palabra_usuario = input('ingrese la palabra: ') # ingresa aqui recien el valor\n",
    "    palabra_usuario = palabra_usuario.lower() #por si escribe en mayuscula el \n",
    "    if palabra_usuario == palabra_secreta: #si coincide entonces ganaste y chau\n",
    "        print('WINNER!!!!!')\n",
    "        print(f'la palabra es: {palabra_secreta}')  \n",
    "        break\n",
    "    else: #si no ganÃ³ ahi recien entra en la funcion de pistas por verificacion\n",
    "        total_intentos = total_intentos - 1  #restamos vidas\n",
    "        estatus.append(validar_datos(palabra_secreta, palabra_usuario)) #estatus means las pistas de valor y posicion\n",
    "        imprimir_con_salto(estatus)\n",
    "        print(f'quedan {total_intentos} intentos')\n",
    "        if total_intentos == 0: \n",
    "            print('game over')\n",
    "            break"
   ]
  }
 ],
 "metadata": {
  "kernelspec": {
   "display_name": "Python 3",
   "language": "python",
   "name": "python3"
  },
  "language_info": {
   "codemirror_mode": {
    "name": "ipython",
    "version": 3
   },
   "file_extension": ".py",
   "mimetype": "text/x-python",
   "name": "python",
   "nbconvert_exporter": "python",
   "pygments_lexer": "ipython3",
   "version": "3.13.1"
  }
 },
 "nbformat": 4,
 "nbformat_minor": 2
}
